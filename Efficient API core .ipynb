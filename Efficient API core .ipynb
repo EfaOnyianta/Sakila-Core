{
 "cells": [
  {
   "cell_type": "code",
   "execution_count": 1,
   "id": "57caa600",
   "metadata": {},
   "outputs": [],
   "source": [
    "import numpy as np\n",
    "import pandas as pd\n",
    "import matplotlib.pyplot as plt\n",
    "import seaborn as sns\n",
    "import os, json, math, time\n",
    "# to make API calls\n",
    "from yelpapi import YelpAPI\n",
    "from tqdm.notebook import tqdm_notebook"
   ]
  },
  {
   "cell_type": "code",
   "execution_count": 2,
   "id": "00aa5cfb",
   "metadata": {},
   "outputs": [],
   "source": [
    "with open('/Users/dell/.secret/yelp_api.json') as f:\n",
    "    login = json.load(f)"
   ]
  },
  {
   "cell_type": "code",
   "execution_count": 3,
   "id": "02efa9d8",
   "metadata": {},
   "outputs": [
    {
     "data": {
      "text/plain": [
       "dict_keys(['client-id', 'api-key'])"
      ]
     },
     "execution_count": 3,
     "metadata": {},
     "output_type": "execute_result"
    }
   ],
   "source": [
    "login.keys()"
   ]
  },
  {
   "cell_type": "code",
   "execution_count": 4,
   "id": "3c9bd15a",
   "metadata": {},
   "outputs": [
    {
     "data": {
      "text/plain": [
       "<yelpapi.yelpapi.YelpAPI at 0x190d582c7f0>"
      ]
     },
     "execution_count": 4,
     "metadata": {},
     "output_type": "execute_result"
    }
   ],
   "source": [
    "yelp_api = YelpAPI(login['api-key'], timeout_s = 5.0)\n",
    "yelp_api\n",
    "#search_results = yelp_api.search_query(args)"
   ]
  },
  {
   "cell_type": "code",
   "execution_count": 5,
   "id": "224be5fe",
   "metadata": {},
   "outputs": [],
   "source": [
    "#define search\n",
    "LOCATION= 'Philadelphia, PA'\n",
    "TERM = 'Cheesesteak'"
   ]
  },
  {
   "cell_type": "code",
   "execution_count": 6,
   "id": "128de0bb",
   "metadata": {},
   "outputs": [
    {
     "data": {
      "text/plain": [
       "'Data/results_in_progress_PA_Cheesesteak.json'"
      ]
     },
     "execution_count": 6,
     "metadata": {},
     "output_type": "execute_result"
    }
   ],
   "source": [
    "JSON_FILE = \"Data/results_in_progress_PA_Cheesesteak.json\"\n",
    "JSON_FILE"
   ]
  },
  {
   "cell_type": "code",
   "execution_count": 7,
   "id": "d8fa3f3f",
   "metadata": {},
   "outputs": [],
   "source": [
    "def create_json_file(JSON_FILE, delete_if_exists = False):\n",
    "    file_exists = os.path.isfile(JSON_FILE)\n",
    "    if file_exists == True:\n",
    "         if delete_if_exists == True:\n",
    "                print(f\"[!]{JSON_FILE} already exists. Deleting previous file...\")\n",
    "                os.remove(JSON_FILE)\n",
    "                create_json_file(JSON_FILE, delete_if_exists = False) \n",
    "         else:\n",
    "            print(f\"[i]{JSON_FILE}already exists.\")\n",
    "            \n",
    "           #if it doesnt exist\n",
    "    else:\n",
    "        print(f\"[i]{JSON_FILE} not found. Saving empty list to new file.\")\n",
    "        \n",
    "        folder = os.path.dirname(JSON_FILE)\n",
    "        \n",
    "        if len(folder)>0:\n",
    "            os.makedirs(folder, exist_ok=True)\n",
    "            \n",
    "        with open(JSON_FILE, 'w') as f:\n",
    "            json.dump([],f)\n",
    "        \n",
    "                \n",
    "        \n",
    "    "
   ]
  },
  {
   "cell_type": "code",
   "execution_count": 8,
   "id": "77bc2fe5",
   "metadata": {},
   "outputs": [
    {
     "name": "stdout",
     "output_type": "stream",
     "text": [
      "[!]Data/results_in_progress_PA_Cheesesteak.json already exists. Deleting previous file...\n",
      "[i]Data/results_in_progress_PA_Cheesesteak.json not found. Saving empty list to new file.\n",
      "=0 previous results found.\n"
     ]
    },
    {
     "data": {
      "text/plain": [
       "180"
      ]
     },
     "execution_count": 8,
     "metadata": {},
     "output_type": "execute_result"
    }
   ],
   "source": [
    "create_json_file(JSON_FILE, delete_if_exists = True)\n",
    "\n",
    "with open(JSON_FILE, 'r') as f:\n",
    "    previous_results = json.load(f)\n",
    "    \n",
    "n_results = len(previous_results)\n",
    "print(f'={n_results} previous results found.')\n",
    "\n",
    "results = yelp_api.search_query(location = LOCATION,\n",
    "                               term = TERM,\n",
    "                               offset = n_results)\n",
    "results.keys()\n",
    "\n",
    "total_results = results ['total']\n",
    "\n",
    "# how many results per page\n",
    "results_per_page = len(results['businesses'])\n",
    "\n",
    "n_pages = math.ceil((results ['total']-n_results)/results_per_page)\n",
    "n_pages\n"
   ]
  },
  {
   "cell_type": "code",
   "execution_count": 9,
   "id": "3240dddc",
   "metadata": {},
   "outputs": [
    {
     "data": {
      "application/vnd.jupyter.widget-view+json": {
       "model_id": "26aab022d8dd48eaa0a3f300c5bf774a",
       "version_major": 2,
       "version_minor": 0
      },
      "text/plain": [
       "  0%|          | 0/180 [00:00<?, ?it/s]"
      ]
     },
     "metadata": {},
     "output_type": "display_data"
    },
    {
     "name": "stdout",
     "output_type": "stream",
     "text": [
      "Exceeded 1000 api calls. Stopping.\n"
     ]
    }
   ],
   "source": [
    "#for loop each page\n",
    "for i in tqdm_notebook(range(1, n_pages+1)):\n",
    "    with open(JSON_FILE , 'r') as f:\n",
    "        previous_results = json.load(f)\n",
    "        \n",
    "    n_results = len(previous_results)\n",
    "    if(n_results +results_per_page)>1000:\n",
    "        print('Exceeded 1000 api calls. Stopping.')\n",
    "        break\n",
    "        \n",
    "    results = yelp_api.search_query(location= LOCATION,\n",
    "                                   term = TERM,\n",
    "                                   offset=n_results)\n",
    "    \n",
    "    #append new results and save to file\n",
    "    previous_results.extend(results['businesses'])\n",
    "    \n",
    "    with open(JSON_FILE, 'w') as f:\n",
    "        json.dump(previous_results,f)\n",
    "    time.sleep(.5)"
   ]
  },
  {
   "cell_type": "code",
   "execution_count": 10,
   "id": "eeaf5245",
   "metadata": {},
   "outputs": [
    {
     "data": {
      "text/html": [
       "<div>\n",
       "<style scoped>\n",
       "    .dataframe tbody tr th:only-of-type {\n",
       "        vertical-align: middle;\n",
       "    }\n",
       "\n",
       "    .dataframe tbody tr th {\n",
       "        vertical-align: top;\n",
       "    }\n",
       "\n",
       "    .dataframe thead th {\n",
       "        text-align: right;\n",
       "    }\n",
       "</style>\n",
       "<table border=\"1\" class=\"dataframe\">\n",
       "  <thead>\n",
       "    <tr style=\"text-align: right;\">\n",
       "      <th></th>\n",
       "      <th>id</th>\n",
       "      <th>alias</th>\n",
       "      <th>name</th>\n",
       "      <th>image_url</th>\n",
       "      <th>is_closed</th>\n",
       "      <th>url</th>\n",
       "      <th>review_count</th>\n",
       "      <th>categories</th>\n",
       "      <th>rating</th>\n",
       "      <th>coordinates</th>\n",
       "      <th>transactions</th>\n",
       "      <th>price</th>\n",
       "      <th>location</th>\n",
       "      <th>phone</th>\n",
       "      <th>display_phone</th>\n",
       "      <th>distance</th>\n",
       "    </tr>\n",
       "  </thead>\n",
       "  <tbody>\n",
       "    <tr>\n",
       "      <th>0</th>\n",
       "      <td>RQAF6a0akMiot5lZZnMNNw</td>\n",
       "      <td>dalessandro-s-steaks-and-hoagies-philadelphia</td>\n",
       "      <td>Dalessandro’s Steaks &amp; Hoagies</td>\n",
       "      <td>https://s3-media3.fl.yelpcdn.com/bphoto/yGVA9f...</td>\n",
       "      <td>False</td>\n",
       "      <td>https://www.yelp.com/biz/dalessandro-s-steaks-...</td>\n",
       "      <td>3133</td>\n",
       "      <td>[{'alias': 'sandwiches', 'title': 'Sandwiches'...</td>\n",
       "      <td>4.0</td>\n",
       "      <td>{'latitude': 40.029494, 'longitude': -75.2059714}</td>\n",
       "      <td>[delivery]</td>\n",
       "      <td>$$</td>\n",
       "      <td>{'address1': '600 Wendover St', 'address2': ''...</td>\n",
       "      <td>+12154825407</td>\n",
       "      <td>(215) 482-5407</td>\n",
       "      <td>8111.519762</td>\n",
       "    </tr>\n",
       "    <tr>\n",
       "      <th>1</th>\n",
       "      <td>LM54ufrINJWoTN5imV8Etw</td>\n",
       "      <td>johns-roast-pork-philadelphia</td>\n",
       "      <td>John's Roast Pork</td>\n",
       "      <td>https://s3-media3.fl.yelpcdn.com/bphoto/qPyjRa...</td>\n",
       "      <td>False</td>\n",
       "      <td>https://www.yelp.com/biz/johns-roast-pork-phil...</td>\n",
       "      <td>1737</td>\n",
       "      <td>[{'alias': 'sandwiches', 'title': 'Sandwiches'...</td>\n",
       "      <td>4.5</td>\n",
       "      <td>{'latitude': 39.9210273851256, 'longitude': -7...</td>\n",
       "      <td>[pickup, delivery]</td>\n",
       "      <td>$$</td>\n",
       "      <td>{'address1': '14 E Snyder Ave', 'address2': ''...</td>\n",
       "      <td>+12154631951</td>\n",
       "      <td>(215) 463-1951</td>\n",
       "      <td>9321.694746</td>\n",
       "    </tr>\n",
       "    <tr>\n",
       "      <th>2</th>\n",
       "      <td>-mIlmp5l4hKlp1tvHRdvTg</td>\n",
       "      <td>sonnys-famous-steaks-philadelphia</td>\n",
       "      <td>Sonny's Famous Steaks</td>\n",
       "      <td>https://s3-media2.fl.yelpcdn.com/bphoto/c333HA...</td>\n",
       "      <td>False</td>\n",
       "      <td>https://www.yelp.com/biz/sonnys-famous-steaks-...</td>\n",
       "      <td>1876</td>\n",
       "      <td>[{'alias': 'cheesesteaks', 'title': 'Cheeseste...</td>\n",
       "      <td>4.0</td>\n",
       "      <td>{'latitude': 39.94982923010674, 'longitude': -...</td>\n",
       "      <td>[pickup, delivery]</td>\n",
       "      <td>$$</td>\n",
       "      <td>{'address1': '228 Market St', 'address2': '', ...</td>\n",
       "      <td>+12156295760</td>\n",
       "      <td>(215) 629-5760</td>\n",
       "      <td>6264.888631</td>\n",
       "    </tr>\n",
       "    <tr>\n",
       "      <th>3</th>\n",
       "      <td>jxEMFqwDJXjCxmcm5t5jVQ</td>\n",
       "      <td>cleavers-philadelphia</td>\n",
       "      <td>Cleavers</td>\n",
       "      <td>https://s3-media1.fl.yelpcdn.com/bphoto/9dfyW_...</td>\n",
       "      <td>False</td>\n",
       "      <td>https://www.yelp.com/biz/cleavers-philadelphia...</td>\n",
       "      <td>1526</td>\n",
       "      <td>[{'alias': 'cheesesteaks', 'title': 'Cheeseste...</td>\n",
       "      <td>4.0</td>\n",
       "      <td>{'latitude': 39.9513931274414, 'longitude': -7...</td>\n",
       "      <td>[pickup, delivery]</td>\n",
       "      <td>$$</td>\n",
       "      <td>{'address1': '108 S 18th St', 'address2': '', ...</td>\n",
       "      <td>+12155153828</td>\n",
       "      <td>(215) 515-3828</td>\n",
       "      <td>7227.916750</td>\n",
       "    </tr>\n",
       "    <tr>\n",
       "      <th>4</th>\n",
       "      <td>PP3BBaVxZLcJU54uP_wL6Q</td>\n",
       "      <td>pats-king-of-steaks-philadelphia-5</td>\n",
       "      <td>pat's king of steaks</td>\n",
       "      <td>https://s3-media4.fl.yelpcdn.com/bphoto/f-Kogk...</td>\n",
       "      <td>False</td>\n",
       "      <td>https://www.yelp.com/biz/pats-king-of-steaks-p...</td>\n",
       "      <td>4520</td>\n",
       "      <td>[{'alias': 'sandwiches', 'title': 'Sandwiches'...</td>\n",
       "      <td>3.0</td>\n",
       "      <td>{'latitude': 39.9332010582612, 'longitude': -7...</td>\n",
       "      <td>[pickup, delivery]</td>\n",
       "      <td>$$</td>\n",
       "      <td>{'address1': '1237 E Passyunk Ave', 'address2'...</td>\n",
       "      <td>+12154681546</td>\n",
       "      <td>(215) 468-1546</td>\n",
       "      <td>8451.476280</td>\n",
       "    </tr>\n",
       "  </tbody>\n",
       "</table>\n",
       "</div>"
      ],
      "text/plain": [
       "                       id                                          alias  \\\n",
       "0  RQAF6a0akMiot5lZZnMNNw  dalessandro-s-steaks-and-hoagies-philadelphia   \n",
       "1  LM54ufrINJWoTN5imV8Etw                  johns-roast-pork-philadelphia   \n",
       "2  -mIlmp5l4hKlp1tvHRdvTg              sonnys-famous-steaks-philadelphia   \n",
       "3  jxEMFqwDJXjCxmcm5t5jVQ                          cleavers-philadelphia   \n",
       "4  PP3BBaVxZLcJU54uP_wL6Q             pats-king-of-steaks-philadelphia-5   \n",
       "\n",
       "                             name  \\\n",
       "0  Dalessandro’s Steaks & Hoagies   \n",
       "1               John's Roast Pork   \n",
       "2           Sonny's Famous Steaks   \n",
       "3                        Cleavers   \n",
       "4            pat's king of steaks   \n",
       "\n",
       "                                           image_url  is_closed  \\\n",
       "0  https://s3-media3.fl.yelpcdn.com/bphoto/yGVA9f...      False   \n",
       "1  https://s3-media3.fl.yelpcdn.com/bphoto/qPyjRa...      False   \n",
       "2  https://s3-media2.fl.yelpcdn.com/bphoto/c333HA...      False   \n",
       "3  https://s3-media1.fl.yelpcdn.com/bphoto/9dfyW_...      False   \n",
       "4  https://s3-media4.fl.yelpcdn.com/bphoto/f-Kogk...      False   \n",
       "\n",
       "                                                 url  review_count  \\\n",
       "0  https://www.yelp.com/biz/dalessandro-s-steaks-...          3133   \n",
       "1  https://www.yelp.com/biz/johns-roast-pork-phil...          1737   \n",
       "2  https://www.yelp.com/biz/sonnys-famous-steaks-...          1876   \n",
       "3  https://www.yelp.com/biz/cleavers-philadelphia...          1526   \n",
       "4  https://www.yelp.com/biz/pats-king-of-steaks-p...          4520   \n",
       "\n",
       "                                          categories  rating  \\\n",
       "0  [{'alias': 'sandwiches', 'title': 'Sandwiches'...     4.0   \n",
       "1  [{'alias': 'sandwiches', 'title': 'Sandwiches'...     4.5   \n",
       "2  [{'alias': 'cheesesteaks', 'title': 'Cheeseste...     4.0   \n",
       "3  [{'alias': 'cheesesteaks', 'title': 'Cheeseste...     4.0   \n",
       "4  [{'alias': 'sandwiches', 'title': 'Sandwiches'...     3.0   \n",
       "\n",
       "                                         coordinates        transactions  \\\n",
       "0  {'latitude': 40.029494, 'longitude': -75.2059714}          [delivery]   \n",
       "1  {'latitude': 39.9210273851256, 'longitude': -7...  [pickup, delivery]   \n",
       "2  {'latitude': 39.94982923010674, 'longitude': -...  [pickup, delivery]   \n",
       "3  {'latitude': 39.9513931274414, 'longitude': -7...  [pickup, delivery]   \n",
       "4  {'latitude': 39.9332010582612, 'longitude': -7...  [pickup, delivery]   \n",
       "\n",
       "  price                                           location         phone  \\\n",
       "0    $$  {'address1': '600 Wendover St', 'address2': ''...  +12154825407   \n",
       "1    $$  {'address1': '14 E Snyder Ave', 'address2': ''...  +12154631951   \n",
       "2    $$  {'address1': '228 Market St', 'address2': '', ...  +12156295760   \n",
       "3    $$  {'address1': '108 S 18th St', 'address2': '', ...  +12155153828   \n",
       "4    $$  {'address1': '1237 E Passyunk Ave', 'address2'...  +12154681546   \n",
       "\n",
       "    display_phone     distance  \n",
       "0  (215) 482-5407  8111.519762  \n",
       "1  (215) 463-1951  9321.694746  \n",
       "2  (215) 629-5760  6264.888631  \n",
       "3  (215) 515-3828  7227.916750  \n",
       "4  (215) 468-1546  8451.476280  "
      ]
     },
     "metadata": {},
     "output_type": "display_data"
    },
    {
     "data": {
      "text/html": [
       "<div>\n",
       "<style scoped>\n",
       "    .dataframe tbody tr th:only-of-type {\n",
       "        vertical-align: middle;\n",
       "    }\n",
       "\n",
       "    .dataframe tbody tr th {\n",
       "        vertical-align: top;\n",
       "    }\n",
       "\n",
       "    .dataframe thead th {\n",
       "        text-align: right;\n",
       "    }\n",
       "</style>\n",
       "<table border=\"1\" class=\"dataframe\">\n",
       "  <thead>\n",
       "    <tr style=\"text-align: right;\">\n",
       "      <th></th>\n",
       "      <th>id</th>\n",
       "      <th>alias</th>\n",
       "      <th>name</th>\n",
       "      <th>image_url</th>\n",
       "      <th>is_closed</th>\n",
       "      <th>url</th>\n",
       "      <th>review_count</th>\n",
       "      <th>categories</th>\n",
       "      <th>rating</th>\n",
       "      <th>coordinates</th>\n",
       "      <th>transactions</th>\n",
       "      <th>price</th>\n",
       "      <th>location</th>\n",
       "      <th>phone</th>\n",
       "      <th>display_phone</th>\n",
       "      <th>distance</th>\n",
       "    </tr>\n",
       "  </thead>\n",
       "  <tbody>\n",
       "    <tr>\n",
       "      <th>995</th>\n",
       "      <td>ajGUFDANNSnqUoLvZPCcPw</td>\n",
       "      <td>maces-crossing-philadelphia</td>\n",
       "      <td>Mace's Crossing</td>\n",
       "      <td>https://s3-media4.fl.yelpcdn.com/bphoto/sCxtO4...</td>\n",
       "      <td>False</td>\n",
       "      <td>https://www.yelp.com/biz/maces-crossing-philad...</td>\n",
       "      <td>135</td>\n",
       "      <td>[{'alias': 'tradamerican', 'title': 'American ...</td>\n",
       "      <td>3.0</td>\n",
       "      <td>{'latitude': 39.9559173583984, 'longitude': -7...</td>\n",
       "      <td>[delivery]</td>\n",
       "      <td>$$</td>\n",
       "      <td>{'address1': '1714 Cherry St', 'address2': '',...</td>\n",
       "      <td>+12155645203</td>\n",
       "      <td>(215) 564-5203</td>\n",
       "      <td>6716.499779</td>\n",
       "    </tr>\n",
       "    <tr>\n",
       "      <th>996</th>\n",
       "      <td>-3m_nXlyvdKAVNNmVirpGQ</td>\n",
       "      <td>rana-halal-cuisine-philadelphia</td>\n",
       "      <td>Rana Halal Cuisine</td>\n",
       "      <td>https://s3-media2.fl.yelpcdn.com/bphoto/6S2mYu...</td>\n",
       "      <td>False</td>\n",
       "      <td>https://www.yelp.com/biz/rana-halal-cuisine-ph...</td>\n",
       "      <td>13</td>\n",
       "      <td>[{'alias': 'mideastern', 'title': 'Middle East...</td>\n",
       "      <td>4.0</td>\n",
       "      <td>{'latitude': 39.9584, 'longitude': -75.19281}</td>\n",
       "      <td>[pickup, delivery]</td>\n",
       "      <td>$$</td>\n",
       "      <td>{'address1': '3513 Lancaster Ave', 'address2':...</td>\n",
       "      <td>+12152227136</td>\n",
       "      <td>(215) 222-7136</td>\n",
       "      <td>8051.241763</td>\n",
       "    </tr>\n",
       "    <tr>\n",
       "      <th>997</th>\n",
       "      <td>68d_MsPklM5cwIKc_FJmgw</td>\n",
       "      <td>sharkeys-grill-and-ale-house-philadelphia-4</td>\n",
       "      <td>Sharkey's Grill And Ale House</td>\n",
       "      <td>https://s3-media2.fl.yelpcdn.com/bphoto/mfaSKM...</td>\n",
       "      <td>False</td>\n",
       "      <td>https://www.yelp.com/biz/sharkeys-grill-and-al...</td>\n",
       "      <td>14</td>\n",
       "      <td>[{'alias': 'tradamerican', 'title': 'American ...</td>\n",
       "      <td>4.5</td>\n",
       "      <td>{'latitude': 40.027254102643276, 'longitude': ...</td>\n",
       "      <td>[]</td>\n",
       "      <td>NaN</td>\n",
       "      <td>{'address1': '7401 State Rd', 'address2': None...</td>\n",
       "      <td>+12156138944</td>\n",
       "      <td>(215) 613-8944</td>\n",
       "      <td>8092.622839</td>\n",
       "    </tr>\n",
       "    <tr>\n",
       "      <th>998</th>\n",
       "      <td>ShMMSvD_xxf3qfy70T2MrA</td>\n",
       "      <td>joes-pizza-broomall</td>\n",
       "      <td>Joe's Pizza</td>\n",
       "      <td>https://s3-media4.fl.yelpcdn.com/bphoto/QdzwY2...</td>\n",
       "      <td>False</td>\n",
       "      <td>https://www.yelp.com/biz/joes-pizza-broomall?a...</td>\n",
       "      <td>38</td>\n",
       "      <td>[{'alias': 'pizza', 'title': 'Pizza'}, {'alias...</td>\n",
       "      <td>4.0</td>\n",
       "      <td>{'latitude': 39.9807964312457, 'longitude': -7...</td>\n",
       "      <td>[delivery]</td>\n",
       "      <td>$</td>\n",
       "      <td>{'address1': '38 S Sproul Rd', 'address2': '',...</td>\n",
       "      <td>+16103569848</td>\n",
       "      <td>(610) 356-9848</td>\n",
       "      <td>20940.878731</td>\n",
       "    </tr>\n",
       "    <tr>\n",
       "      <th>999</th>\n",
       "      <td>jFmYoL-mN5qU1tBI0A2YXA</td>\n",
       "      <td>tony-ronis-pizza-havertown-havertown-3</td>\n",
       "      <td>Tony Roni's Pizza Havertown</td>\n",
       "      <td>https://s3-media4.fl.yelpcdn.com/bphoto/WQJRV7...</td>\n",
       "      <td>False</td>\n",
       "      <td>https://www.yelp.com/biz/tony-ronis-pizza-have...</td>\n",
       "      <td>33</td>\n",
       "      <td>[{'alias': 'pizza', 'title': 'Pizza'}, {'alias...</td>\n",
       "      <td>3.5</td>\n",
       "      <td>{'latitude': 39.9827960431925, 'longitude': -7...</td>\n",
       "      <td>[pickup, delivery]</td>\n",
       "      <td>$</td>\n",
       "      <td>{'address1': '800 N Eagle Rd', 'address2': 'St...</td>\n",
       "      <td>+16108535656</td>\n",
       "      <td>(610) 853-5656</td>\n",
       "      <td>17222.404244</td>\n",
       "    </tr>\n",
       "  </tbody>\n",
       "</table>\n",
       "</div>"
      ],
      "text/plain": [
       "                         id                                        alias  \\\n",
       "995  ajGUFDANNSnqUoLvZPCcPw                  maces-crossing-philadelphia   \n",
       "996  -3m_nXlyvdKAVNNmVirpGQ              rana-halal-cuisine-philadelphia   \n",
       "997  68d_MsPklM5cwIKc_FJmgw  sharkeys-grill-and-ale-house-philadelphia-4   \n",
       "998  ShMMSvD_xxf3qfy70T2MrA                          joes-pizza-broomall   \n",
       "999  jFmYoL-mN5qU1tBI0A2YXA       tony-ronis-pizza-havertown-havertown-3   \n",
       "\n",
       "                              name  \\\n",
       "995                Mace's Crossing   \n",
       "996             Rana Halal Cuisine   \n",
       "997  Sharkey's Grill And Ale House   \n",
       "998                    Joe's Pizza   \n",
       "999    Tony Roni's Pizza Havertown   \n",
       "\n",
       "                                             image_url  is_closed  \\\n",
       "995  https://s3-media4.fl.yelpcdn.com/bphoto/sCxtO4...      False   \n",
       "996  https://s3-media2.fl.yelpcdn.com/bphoto/6S2mYu...      False   \n",
       "997  https://s3-media2.fl.yelpcdn.com/bphoto/mfaSKM...      False   \n",
       "998  https://s3-media4.fl.yelpcdn.com/bphoto/QdzwY2...      False   \n",
       "999  https://s3-media4.fl.yelpcdn.com/bphoto/WQJRV7...      False   \n",
       "\n",
       "                                                   url  review_count  \\\n",
       "995  https://www.yelp.com/biz/maces-crossing-philad...           135   \n",
       "996  https://www.yelp.com/biz/rana-halal-cuisine-ph...            13   \n",
       "997  https://www.yelp.com/biz/sharkeys-grill-and-al...            14   \n",
       "998  https://www.yelp.com/biz/joes-pizza-broomall?a...            38   \n",
       "999  https://www.yelp.com/biz/tony-ronis-pizza-have...            33   \n",
       "\n",
       "                                            categories  rating  \\\n",
       "995  [{'alias': 'tradamerican', 'title': 'American ...     3.0   \n",
       "996  [{'alias': 'mideastern', 'title': 'Middle East...     4.0   \n",
       "997  [{'alias': 'tradamerican', 'title': 'American ...     4.5   \n",
       "998  [{'alias': 'pizza', 'title': 'Pizza'}, {'alias...     4.0   \n",
       "999  [{'alias': 'pizza', 'title': 'Pizza'}, {'alias...     3.5   \n",
       "\n",
       "                                           coordinates        transactions  \\\n",
       "995  {'latitude': 39.9559173583984, 'longitude': -7...          [delivery]   \n",
       "996      {'latitude': 39.9584, 'longitude': -75.19281}  [pickup, delivery]   \n",
       "997  {'latitude': 40.027254102643276, 'longitude': ...                  []   \n",
       "998  {'latitude': 39.9807964312457, 'longitude': -7...          [delivery]   \n",
       "999  {'latitude': 39.9827960431925, 'longitude': -7...  [pickup, delivery]   \n",
       "\n",
       "    price                                           location         phone  \\\n",
       "995    $$  {'address1': '1714 Cherry St', 'address2': '',...  +12155645203   \n",
       "996    $$  {'address1': '3513 Lancaster Ave', 'address2':...  +12152227136   \n",
       "997   NaN  {'address1': '7401 State Rd', 'address2': None...  +12156138944   \n",
       "998     $  {'address1': '38 S Sproul Rd', 'address2': '',...  +16103569848   \n",
       "999     $  {'address1': '800 N Eagle Rd', 'address2': 'St...  +16108535656   \n",
       "\n",
       "      display_phone      distance  \n",
       "995  (215) 564-5203   6716.499779  \n",
       "996  (215) 222-7136   8051.241763  \n",
       "997  (215) 613-8944   8092.622839  \n",
       "998  (610) 356-9848  20940.878731  \n",
       "999  (610) 853-5656  17222.404244  "
      ]
     },
     "metadata": {},
     "output_type": "display_data"
    }
   ],
   "source": [
    "final_df = pd.read_json(JSON_FILE)\n",
    "display(final_df.head(), final_df.tail())"
   ]
  },
  {
   "cell_type": "code",
   "execution_count": 11,
   "id": "96a9b576",
   "metadata": {},
   "outputs": [
    {
     "data": {
      "text/plain": [
       "0"
      ]
     },
     "execution_count": 11,
     "metadata": {},
     "output_type": "execute_result"
    }
   ],
   "source": [
    "final_df.duplicated(subset='id').sum()"
   ]
  },
  {
   "cell_type": "code",
   "execution_count": 12,
   "id": "9595b7a0",
   "metadata": {},
   "outputs": [
    {
     "data": {
      "text/plain": [
       "0"
      ]
     },
     "execution_count": 12,
     "metadata": {},
     "output_type": "execute_result"
    }
   ],
   "source": [
    "final_df.duplicated(subset='alias').sum()"
   ]
  },
  {
   "cell_type": "code",
   "execution_count": 13,
   "id": "f62a0e97",
   "metadata": {},
   "outputs": [
    {
     "data": {
      "text/plain": [
       "55"
      ]
     },
     "execution_count": 13,
     "metadata": {},
     "output_type": "execute_result"
    }
   ],
   "source": [
    "final_df.duplicated(subset='name').sum()"
   ]
  },
  {
   "cell_type": "code",
   "execution_count": 14,
   "id": "db52eef0",
   "metadata": {},
   "outputs": [],
   "source": [
    "final_df = final_df.drop_duplicates(subset='name')"
   ]
  },
  {
   "cell_type": "code",
   "execution_count": 15,
   "id": "023f38a6",
   "metadata": {},
   "outputs": [
    {
     "data": {
      "text/plain": [
       "0"
      ]
     },
     "execution_count": 15,
     "metadata": {},
     "output_type": "execute_result"
    }
   ],
   "source": [
    "final_df.duplicated(subset='name').sum()"
   ]
  },
  {
   "cell_type": "code",
   "execution_count": 16,
   "id": "a29277cf",
   "metadata": {},
   "outputs": [],
   "source": [
    "final_df.to_csv('Data/final_results_PA_Cheesesteaks.csv.gz', compression = 'gzip', index = False)"
   ]
  }
 ],
 "metadata": {
  "kernelspec": {
   "display_name": "Python(dojo-env0",
   "language": "python",
   "name": "dojo-env"
  },
  "language_info": {
   "codemirror_mode": {
    "name": "ipython",
    "version": 3
   },
   "file_extension": ".py",
   "mimetype": "text/x-python",
   "name": "python",
   "nbconvert_exporter": "python",
   "pygments_lexer": "ipython3",
   "version": "3.9.15"
  },
  "toc": {
   "base_numbering": 1,
   "nav_menu": {},
   "number_sections": false,
   "sideBar": true,
   "skip_h1_title": false,
   "title_cell": "Table of Contents",
   "title_sidebar": "Contents",
   "toc_cell": false,
   "toc_position": {},
   "toc_section_display": true,
   "toc_window_display": false
  }
 },
 "nbformat": 4,
 "nbformat_minor": 5
}
